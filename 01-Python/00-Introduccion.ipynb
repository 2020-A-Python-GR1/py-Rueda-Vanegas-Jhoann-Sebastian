{
 "cells": [
  {
   "cell_type": "markdown",
   "metadata": {},
   "source": [
    "# titulo1\n",
    "## titulo 2"
   ]
  },
  {
   "cell_type": "code",
   "execution_count": 1,
   "metadata": {},
   "outputs": [
    {
     "name": "stdout",
     "output_type": "stream",
     "text": [
      "hola mundo\n"
     ]
    }
   ],
   "source": [
    "print (\"hola mundo\")"
   ]
  },
  {
   "cell_type": "code",
   "execution_count": 2,
   "metadata": {},
   "outputs": [
    {
     "name": "stdout",
     "output_type": "stream",
     "text": [
      "Hola mundo\n"
     ]
    }
   ],
   "source": [
    "print(\"Hola mundo\")"
   ]
  },
  {
   "cell_type": "code",
   "execution_count": 3,
   "metadata": {},
   "outputs": [
    {
     "name": "stdout",
     "output_type": "stream",
     "text": [
      "<class 'int'>\n",
      "<class 'float'>\n",
      "<class 'str'>\n",
      "<class 'str'>\n",
      "<class 'str'>\n",
      "<class 'bool'>\n",
      "<class 'bool'>\n",
      "<class 'NoneType'>\n",
      "<class 'float'>\n"
     ]
    }
   ],
   "source": [
    "# No tipoado\n",
    "# Variables primitivas\n",
    "\n",
    "entero = 4 \n",
    "decimales = 1.1\n",
    "nombre = \"Jhoann\"\n",
    "segundo_nombre = \"Sebastian\" #no usar segundoNombre\n",
    "apellido = 'Rueda'\n",
    "casado = False\n",
    "estudiante = True #llevan mayuscula\n",
    "hijos = None #esto es el equivalente a null en otros lenguajes\n",
    "\n",
    "\n",
    "print(type(entero)) #int\n",
    "print(type(decimales)) #float\n",
    "print(type(nombre)) #str\n",
    "print(type(segundo_nombre)) #str\n",
    "print(type(apellido)) #str\n",
    "print(type(casado)) #bool\n",
    "print(type(estudiante)) #bool\n",
    "print(type(hijos)) #none type\n",
    "print(type(float('nan'))) #nan significa not a number"
   ]
  },
  {
   "cell_type": "code",
   "execution_count": 5,
   "metadata": {},
   "outputs": [
    {
     "name": "stdout",
     "output_type": "stream",
     "text": [
      "  \n",
      "lasjdflahsdkfkasjdhlf\n",
      "akñsjdfhañksjdfhlaksjdfhñaskjdfhñaskdfh ñlkah klashdfñkjh akjhdfa\n",
      "kjasdhflkjasdhf askjdfhaslkjfh ashfaskljdfh oiuashflkjqw heriuh asjdhfa\n",
      "\n",
      "\n"
     ]
    }
   ],
   "source": [
    "cadena_de_texto = \"\"\"  \n",
    "lasjdflahsdkfkasjdhlf\n",
    "akñsjdfhañksjdfhlaksjdfhñaskjdfhñaskdfh ñlkah klashdfñkjh akjhdfa\n",
    "kjasdhflkjasdhf askjdfhaslkjfh ashfaskljdfh oiuashflkjqw heriuh asjdhfa\n",
    "\n",
    "\"\"\" #todo lo que esté dentro de la cadena de texto sera cuando tenga \"\"\"\"\"\"\n",
    "print(cadena_de_texto)"
   ]
  },
  {
   "cell_type": "code",
   "execution_count": 6,
   "metadata": {},
   "outputs": [
    {
     "name": "stdout",
     "output_type": "stream",
     "text": [
      "4\n",
      "Jhoann\n"
     ]
    }
   ],
   "source": [
    "print(entero)\n",
    "entero = decimales\n",
    "entero = hijos\n",
    "entero = nombre\n",
    "print(entero)"
   ]
  },
  {
   "cell_type": "code",
   "execution_count": 10,
   "metadata": {},
   "outputs": [
    {
     "name": "stdout",
     "output_type": "stream",
     "text": [
      "Truty\n",
      "Falsy\n"
     ]
    }
   ],
   "source": [
    "#condiciones Truty y Falsy\n",
    "tuplas = (1,2,3) #arreglos que no se pueden modificar\n",
    "lista = [4,5,6] #arreglos que se pueden modificar\n",
    "diccionario = {\"nombre\":\"sebastian\"} #objetos que se delimitan con las llaves\n",
    "\n",
    "if('Sebas'):  #con cadena de caracteres se imprime truty, si esta vacia la cadena sera falsy\n",
    "    print('Truty')\n",
    "else:\n",
    "    print('Falsy')\n",
    "\n",
    "if(''):  #si esta vacia la cadena sera falsy\n",
    "    print('Truty')\n",
    "else:\n",
    "    print('Falsy')"
   ]
  },
  {
   "cell_type": "code",
   "execution_count": null,
   "metadata": {},
   "outputs": [],
   "source": []
  },
  {
   "cell_type": "code",
   "execution_count": null,
   "metadata": {},
   "outputs": [],
   "source": []
  }
 ],
 "metadata": {
  "kernelspec": {
   "display_name": "Python 3",
   "language": "python",
   "name": "python3"
  },
  "language_info": {
   "codemirror_mode": {
    "name": "ipython",
    "version": 3
   },
   "file_extension": ".py",
   "mimetype": "text/x-python",
   "name": "python",
   "nbconvert_exporter": "python",
   "pygments_lexer": "ipython3",
   "version": "3.7.6"
  }
 },
 "nbformat": 4,
 "nbformat_minor": 4
}
