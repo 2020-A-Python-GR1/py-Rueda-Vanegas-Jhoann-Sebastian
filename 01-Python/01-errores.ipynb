{
 "cells": [
  {
   "cell_type": "code",
   "execution_count": 3,
   "metadata": {},
   "outputs": [],
   "source": [
    "# asdfasdf NameError\n",
    "#asdfas asdfas Syntax error\n",
    "# 0/0 ZeroDivisionError\n",
    "#a = {'b':'b'}\n",
    "#a['c'] Key Error"
   ]
  },
  {
   "cell_type": "code",
   "execution_count": 13,
   "metadata": {},
   "outputs": [
    {
     "name": "stdout",
     "output_type": "stream",
     "text": [
      "<class 'NameError'>\n",
      "name 'asdfasdf' is not defined\n",
      "<class 'ZeroDivisionError'>\n",
      "division by zero\n",
      "<class 'KeyError'>\n",
      "'c'\n"
     ]
    }
   ],
   "source": [
    "try:\n",
    "    asdfasdf\n",
    "except Exception as error:\n",
    "    print(type(error))\n",
    "    print(error)\n",
    "\n",
    "try:\n",
    "    0/0\n",
    "except Exception as error:\n",
    "    print(type(error))\n",
    "    print(error)\n",
    "try:\n",
    "    a = {'b':'b'}\n",
    "    a['c']\n",
    "except Exception as error:\n",
    "    print(type(error))\n",
    "    print(error)\n",
    "    "
   ]
  },
  {
   "cell_type": "code",
   "execution_count": 20,
   "metadata": {},
   "outputs": [
    {
     "name": "stdout",
     "output_type": "stream",
     "text": [
      "'c'\n"
     ]
    }
   ],
   "source": [
    "try: #para controlar los errores que espec[ificos ]\n",
    "    #asdfasdf\n",
    "    #0/0\n",
    "    a = {'b':'b'}\n",
    "    a['c']\n",
    "except NameError as name_error:\n",
    "    print(\"Variable no declarada\")\n",
    "except (ZeroDivisionError, KeyError) as error_Comun:\n",
    "    print(error_Comun)\n",
    "except Exception as error:\n",
    "    print(error)\n"
   ]
  },
  {
   "cell_type": "code",
   "execution_count": null,
   "metadata": {},
   "outputs": [],
   "source": []
  }
 ],
 "metadata": {
  "kernelspec": {
   "display_name": "Python 3",
   "language": "python",
   "name": "python3"
  },
  "language_info": {
   "codemirror_mode": {
    "name": "ipython",
    "version": 3
   },
   "file_extension": ".py",
   "mimetype": "text/x-python",
   "name": "python",
   "nbconvert_exporter": "python",
   "pygments_lexer": "ipython3",
   "version": "3.7.7"
  }
 },
 "nbformat": 4,
 "nbformat_minor": 4
}
