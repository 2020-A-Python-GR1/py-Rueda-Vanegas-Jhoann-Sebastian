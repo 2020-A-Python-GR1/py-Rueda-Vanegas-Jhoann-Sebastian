{
 "cells": [
  {
   "cell_type": "code",
   "execution_count": 21,
   "metadata": {},
   "outputs": [],
   "source": [
    "#archivos\n",
    "\n",
    "try:\n",
    "    path = \"./frases.txt\"\n",
    "    archivo_abierto = open(path, \"w\") #w significa write a significa append\n",
    "    #linea_uno = archivo_abierto.readline()\n",
    "    #linea_uno = archivo_abierto.readlines()\n",
    "    archivo_abierto.write(\"Hola buenas tardes\")\n",
    "    archivo_abierto.close()\n",
    "except Exception as error:\n",
    "    print(\"error leyendo archivo\")"
   ]
  },
  {
   "cell_type": "code",
   "execution_count": 22,
   "metadata": {},
   "outputs": [],
   "source": [
    "\n",
    "try:\n",
    "    path = \"./frases.txt\"\n",
    "    archivo_abierto = open(path, \"a\") #w significa write a significa append\n",
    "    #linea_uno = archivo_abierto.readline()\n",
    "    #linea_uno = archivo_abierto.readlines()\n",
    "    archivo_abierto.write(\"soy sebas\")\n",
    "    archivo_abierto.close()\n",
    "except Exception as error:\n",
    "    print(\"error leyendo archivo\")"
   ]
  },
  {
   "cell_type": "code",
   "execution_count": null,
   "metadata": {},
   "outputs": [],
   "source": []
  }
 ],
 "metadata": {
  "kernelspec": {
   "display_name": "Python 3",
   "language": "python",
   "name": "python3"
  },
  "language_info": {
   "codemirror_mode": {
    "name": "ipython",
    "version": 3
   },
   "file_extension": ".py",
   "mimetype": "text/x-python",
   "name": "python",
   "nbconvert_exporter": "python",
   "pygments_lexer": "ipython3",
   "version": "3.7.7"
  }
 },
 "nbformat": 4,
 "nbformat_minor": 4
}
