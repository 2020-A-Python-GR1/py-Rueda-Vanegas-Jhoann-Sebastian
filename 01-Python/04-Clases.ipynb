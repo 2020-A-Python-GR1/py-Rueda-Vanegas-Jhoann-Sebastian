{
 "cells": [
  {
   "cell_type": "code",
   "execution_count": 1,
   "metadata": {},
   "outputs": [
    {
     "data": {
      "text/plain": [
       "4"
      ]
     },
     "execution_count": 1,
     "metadata": {},
     "output_type": "execute_result"
    }
   ],
   "source": [
    "#funciones Lambda\n",
    "\n",
    "def elevar_al_cuadrado(numero):\n",
    "    return numero * numero\n",
    "\n",
    "elevar_al_cuadrado(2)\n"
   ]
  },
  {
   "cell_type": "code",
   "execution_count": 4,
   "metadata": {},
   "outputs": [
    {
     "data": {
      "text/plain": [
       "9"
      ]
     },
     "execution_count": 4,
     "metadata": {},
     "output_type": "execute_result"
    }
   ],
   "source": [
    "al_cuadrado = lambda x : x * x\n",
    "al_cuadrado(3)"
   ]
  },
  {
   "cell_type": "code",
   "execution_count": 7,
   "metadata": {},
   "outputs": [
    {
     "data": {
      "text/plain": [
       "6"
      ]
     },
     "execution_count": 7,
     "metadata": {},
     "output_type": "execute_result"
    }
   ],
   "source": [
    "sumar_dos_numero = lambda x, y : x+ y\n",
    "\n",
    "sumar_dos_numero(4,2)"
   ]
  },
  {
   "cell_type": "code",
   "execution_count": 31,
   "metadata": {},
   "outputs": [
    {
     "name": "stdout",
     "output_type": "stream",
     "text": [
      "<__main__.Nada object at 0x000001D15337A588>\n",
      "<class '__main__.Nada'>\n"
     ]
    }
   ],
   "source": [
    "#clases\n",
    "\n",
    "class Nada:\n",
    "    pass     #esto quiere decir que existe la clase aunque no este implementado nada\n",
    "una_nada = Nada()\n",
    "print(una_nada)\n",
    "print(type(una_nada))"
   ]
  },
  {
   "cell_type": "code",
   "execution_count": 42,
   "metadata": {},
   "outputs": [
    {
     "name": "stdout",
     "output_type": "stream",
     "text": [
      "Empezo el constructor\n",
      "Rosado\n",
      "140.39999999999998\n",
      "Color: Rosado \n",
      "Numero chasis: 120\n"
     ]
    }
   ],
   "source": [
    "class Auto:\n",
    "    color  = None #tipo publico\n",
    "    __numero_chasis = 1 # tipo privado\n",
    "\n",
    "    def __init__(self, color): # self  = this en otros lenguajes de programacion\n",
    "        print(\"Empezo el constructor\")\n",
    "        self.color = color\n",
    "    \n",
    "    def setear_chasis(self, numero_chasis):\n",
    "        self.__numero_chasis = numero_chasis\n",
    "        return self.__calcular_chasis()\n",
    "    \n",
    "    def __calcular_chasis(self):\n",
    "        return self.__numero_chasis * 1.17\n",
    "    \n",
    "    def __str__(self):\n",
    "        parte_uno = f\"Color: {self.color} \\n\"\n",
    "        parte_dos = f\"Numero chasis: {self.__numero_chasis}\"        \n",
    "        return parte_uno + parte_dos\n",
    "    \n",
    "nuevo_auto = Auto(\"Rosado\")\n",
    "print(nuevo_auto.color)\n",
    "print(nuevo_auto.setear_chasis(120))\n",
    "print(nuevo_auto)"
   ]
  },
  {
   "cell_type": "code",
   "execution_count": 43,
   "metadata": {},
   "outputs": [],
   "source": [
    "class BMW(Auto):\n",
    "    def __init__(self, color, chasis):\n",
    "        print(\"Indicar constructor hijo\")\n",
    "        super().__init__(color)\n",
    "        super().setear_chasis(chasis)"
   ]
  },
  {
   "cell_type": "code",
   "execution_count": 44,
   "metadata": {},
   "outputs": [
    {
     "name": "stdout",
     "output_type": "stream",
     "text": [
      "Indicar constructor hijo\n",
      "Empezo el constructor\n",
      "Color: blanco \n",
      "Numero chasis: 150\n"
     ]
    }
   ],
   "source": [
    "nuevo_BMW = BMW(\"blanco\", 150)\n",
    "print(nuevo_BMW)"
   ]
  },
  {
   "cell_type": "code",
   "execution_count": null,
   "metadata": {},
   "outputs": [],
   "source": []
  }
 ],
 "metadata": {
  "kernelspec": {
   "display_name": "Python 3",
   "language": "python",
   "name": "python3"
  },
  "language_info": {
   "codemirror_mode": {
    "name": "ipython",
    "version": 3
   },
   "file_extension": ".py",
   "mimetype": "text/x-python",
   "name": "python",
   "nbconvert_exporter": "python",
   "pygments_lexer": "ipython3",
   "version": "3.7.7"
  }
 },
 "nbformat": 4,
 "nbformat_minor": 4
}
