{
 "cells": [
  {
   "cell_type": "code",
   "execution_count": 2,
   "metadata": {},
   "outputs": [
    {
     "name": "stdout",
     "output_type": "stream",
     "text": [
      "hola_mundo\n"
     ]
    },
    {
     "data": {
      "text/plain": [
       "NoneType"
      ]
     },
     "execution_count": 2,
     "metadata": {},
     "output_type": "execute_result"
    }
   ],
   "source": [
    "#funciones\n",
    "def hola_mundo(): #NoneType este es el tipo de las funionces que no regresan nada\n",
    "    print(\"hola_mundo\")\n",
    "\n",
    "type(hola_mundo())"
   ]
  },
  {
   "cell_type": "code",
   "execution_count": 5,
   "metadata": {},
   "outputs": [
    {
     "name": "stdout",
     "output_type": "stream",
     "text": [
      "7\n",
      "La suma de los numeros es: 7\n"
     ]
    }
   ],
   "source": [
    "def sumar_numeros(num_uno, num_dos): #funcion con parametros requeridos\n",
    "    return num_uno + num_dos\n",
    "print(sumar_numeros(3,4))\n",
    "\n",
    "total_suma = sumar_numeros(3,4)\n",
    "print(f\"La suma de los numeros es: {total_suma}\")"
   ]
  },
  {
   "cell_type": "code",
   "execution_count": 10,
   "metadata": {},
   "outputs": [
    {
     "name": "stdout",
     "output_type": "stream",
     "text": [
      "universidad EPN\n",
      "universidad ESPE\n"
     ]
    }
   ],
   "source": [
    "def imprimir_universidad(nombre = \"EPN\"): #se guarda al parametro con un valor sera parametro opcional\n",
    "    print(f\"universidad {nombre}\")        #parametros por defecto\n",
    "imprimir_universidad()\n",
    "imprimir_universidad(\"ESPE\")"
   ]
  },
  {
   "cell_type": "code",
   "execution_count": 11,
   "metadata": {},
   "outputs": [
    {
     "name": "stdout",
     "output_type": "stream",
     "text": [
      "color Azul\n",
      "placa asd-0001\n",
      "hp 3000\n",
      "anio 1996\n"
     ]
    }
   ],
   "source": [
    "#REGLA  1.- para escribir una funcion primero los parametros requeridos\n",
    "#       2.- los parametros opcionales\n",
    "\n",
    "def imprimir_carro(color, placa, hp, anio = 1996):\n",
    "    print(f\"color {color}\")\n",
    "    print(f\"placa {placa}\")\n",
    "    print(f\"hp {hp}\")\n",
    "    print(f\"anio {anio}\")\n",
    "\n",
    "imprimir_carro(\"Azul\", \"asd-0001\",3000)"
   ]
  },
  {
   "cell_type": "code",
   "execution_count": 14,
   "metadata": {},
   "outputs": [
    {
     "name": "stdout",
     "output_type": "stream",
     "text": [
      "color Blanco\n",
      "placa qwe-1542\n",
      "hp 2500\n",
      "anio 1997\n",
      "color verde\n",
      "placa hgf-0152\n",
      "hp 2500\n",
      "anio 1997\n"
     ]
    }
   ],
   "source": [
    "# Named Parameters o parametros nombrados\n",
    "imprimir_carro(anio = 1997,\n",
    "              placa=\"qwe-1542\",\n",
    "              hp=2500,\n",
    "              color=\"Blanco\")\n",
    "\n",
    "#REGLA  Podemos usar parametros por posicion y loego los parametros nombrados\n",
    "#pero no se deberia hacer, o usamos la una manera o la otra\n",
    "\n",
    "imprimir_carro(\"verde\",\n",
    "               \"hgf-0152\",\n",
    "               anio = 1997,     \n",
    "               hp=2500)"
   ]
  },
  {
   "cell_type": "code",
   "execution_count": 24,
   "metadata": {},
   "outputs": [
    {
     "data": {
      "text/plain": [
       "26.8"
      ]
     },
     "execution_count": 24,
     "metadata": {},
     "output_type": "execute_result"
    }
   ],
   "source": [
    "def sumar_numeros(primer_numero, *numeros): #los para metros que tienen * son parametros infinitos, es decir que puede\n",
    "    suma = primer_numero                   #haber el numero de parametros que se necesiten\n",
    "    \n",
    "    for numero in numeros:\n",
    "        suma+= numero\n",
    "    return suma\n",
    "sumar_numeros(1,5,4,4,5.8,7)"
   ]
  },
  {
   "cell_type": "code",
   "execution_count": 27,
   "metadata": {},
   "outputs": [
    {
     "name": "stdout",
     "output_type": "stream",
     "text": [
      "{'saludo': 'hola', 'mensaje': 'mundo'}\n",
      "<class 'dict'>\n"
     ]
    }
   ],
   "source": [
    "def establecer_configuracion(**kwargs): #key word arguments\n",
    "    print(kwargs)                       #debe recibir parametros nombrados\n",
    "    print(type(kwargs))\n",
    "\n",
    "establecer_configuracion(saludo = \"hola\", mensaje= \"mundo\")"
   ]
  },
  {
   "cell_type": "code",
   "execution_count": 29,
   "metadata": {},
   "outputs": [
    {
     "name": "stdout",
     "output_type": "stream",
     "text": [
      ":O\n"
     ]
    }
   ],
   "source": [
    "#reglas\n",
    "def ejemplo(requqerido_uno,\n",
    "           requqerido_dos,\n",
    "           opcional_uno = 1,\n",
    "           opcional_dos = 2,\n",
    "           *infintos,\n",
    "           **kwargs):\n",
    "    print(\":O\")\n",
    "ejemplo(1,2)"
   ]
  },
  {
   "cell_type": "code",
   "execution_count": null,
   "metadata": {},
   "outputs": [],
   "source": []
  }
 ],
 "metadata": {
  "kernelspec": {
   "display_name": "Python 3",
   "language": "python",
   "name": "python3"
  },
  "language_info": {
   "codemirror_mode": {
    "name": "ipython",
    "version": 3
   },
   "file_extension": ".py",
   "mimetype": "text/x-python",
   "name": "python",
   "nbconvert_exporter": "python",
   "pygments_lexer": "ipython3",
   "version": "3.7.6"
  }
 },
 "nbformat": 4,
 "nbformat_minor": 4
}
