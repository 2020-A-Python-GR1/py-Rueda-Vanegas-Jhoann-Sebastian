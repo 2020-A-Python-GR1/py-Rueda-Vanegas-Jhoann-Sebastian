{
 "cells": [
  {
   "cell_type": "code",
   "execution_count": 1,
   "metadata": {},
   "outputs": [],
   "source": [
    "import numpy as np\n"
   ]
  },
  {
   "cell_type": "code",
   "execution_count": 7,
   "metadata": {},
   "outputs": [],
   "source": [
    "paises_uno = [\"Ecuador\", \"Cuba\", \"Venezuela\", \"USA\"]\n",
    "paises_dos = [\"Brazil\", \"China\", \"Japon\", \"Mexico\"]"
   ]
  },
  {
   "cell_type": "code",
   "execution_count": 8,
   "metadata": {},
   "outputs": [
    {
     "data": {
      "text/plain": [
       "array([['Ecuador', 'Cuba', 'Venezuela', 'USA'],\n",
       "       ['Brazil', 'China', 'Japon', 'Mexico']], dtype='<U9')"
      ]
     },
     "execution_count": 8,
     "metadata": {},
     "output_type": "execute_result"
    }
   ],
   "source": [
    "paises_2d = np.array([paises_uno,paises_dos])\n",
    "paises_2d"
   ]
  },
  {
   "cell_type": "code",
   "execution_count": 9,
   "metadata": {},
   "outputs": [
    {
     "data": {
      "text/plain": [
       "array(['Ecuador', 'Cuba', 'Venezuela', 'USA', 'Brazil', 'China', 'Japon',\n",
       "       'Mexico'], dtype='<U9')"
      ]
     },
     "execution_count": 9,
     "metadata": {},
     "output_type": "execute_result"
    }
   ],
   "source": [
    "paises_2d.flatten() #esto quita el formato de dimension que tiene el arreglo"
   ]
  },
  {
   "cell_type": "code",
   "execution_count": 10,
   "metadata": {},
   "outputs": [
    {
     "data": {
      "text/plain": [
       "array([[['Ecuador', 'Cuba'],\n",
       "        ['Venezuela', 'USA']],\n",
       "\n",
       "       [['Brazil', 'China'],\n",
       "        ['Japon', 'Mexico']]], dtype='<U9')"
      ]
     },
     "execution_count": 10,
     "metadata": {},
     "output_type": "execute_result"
    }
   ],
   "source": [
    "paises_2d.flatten().reshape(2,2,2)"
   ]
  },
  {
   "cell_type": "code",
   "execution_count": 11,
   "metadata": {},
   "outputs": [
    {
     "data": {
      "text/plain": [
       "array([['Ecuador', 'Cuba', 'Venezuela', 'USA'],\n",
       "       ['Brazil', 'China', 'Japon', 'Mexico']], dtype='<U9')"
      ]
     },
     "execution_count": 11,
     "metadata": {},
     "output_type": "execute_result"
    }
   ],
   "source": [
    "paises_2d.flatten().reshape(  ###Solo puede haber un -1, esto me sirve para acomodar el arreglo cuando no conozco\n",
    "-1,4)"
   ]
  },
  {
   "cell_type": "code",
   "execution_count": 12,
   "metadata": {},
   "outputs": [
    {
     "name": "stdout",
     "output_type": "stream",
     "text": [
      "[['Ecuador' 'Cuba' 'Venezuela' 'USA']\n",
      " ['Brazil' 'China' 'Japon' 'Mexico']]\n",
      "(2, 4)\n",
      "[['Ecuador' 'Brazil']\n",
      " ['Cuba' 'China']\n",
      " ['Venezuela' 'Japon']\n",
      " ['USA' 'Mexico']]\n",
      "(4, 2)\n"
     ]
    }
   ],
   "source": [
    "print(paises_2d)\n",
    "print(paises_2d.shape)  #podemos ver el tamaño de la matriz\n",
    "print(paises_2d.T)      #con .T podemos cambiar a que sea matriz trnaspuesta\n",
    "print(paises_2d.T.shape)"
   ]
  },
  {
   "cell_type": "code",
   "execution_count": 13,
   "metadata": {},
   "outputs": [
    {
     "data": {
      "text/plain": [
       "[array([['Ecuador', 'Cuba', 'Venezuela', 'USA']], dtype='<U9'),\n",
       " array([['Brazil', 'China', 'Japon', 'Mexico']], dtype='<U9')]"
      ]
     },
     "execution_count": 13,
     "metadata": {},
     "output_type": "execute_result"
    }
   ],
   "source": [
    "np.split(paises_2d,2)"
   ]
  },
  {
   "cell_type": "code",
   "execution_count": 17,
   "metadata": {},
   "outputs": [],
   "source": [
    "arr1,arr2,arr3,arr4 = np.split(paises_2d.flatten(),4)"
   ]
  },
  {
   "cell_type": "code",
   "execution_count": 20,
   "metadata": {},
   "outputs": [
    {
     "name": "stdout",
     "output_type": "stream",
     "text": [
      "[['Ecuador' 'Cuba' 'Venezuela' 'USA']\n",
      " ['Brazil' 'China' 'Japon' 'Mexico']]\n",
      "[['Ecuador' 'Cuba' 'Venezuela' 'USA']\n",
      " ['Brazil' 'China' 'Japon' 'Mexico']]\n"
     ]
    },
    {
     "data": {
      "text/plain": [
       "[array([['Ecuador', 'Cuba', 'Venezuela', 'USA']], dtype='<U9'),\n",
       " array([['Brazil', 'China', 'Japon', 'Mexico']], dtype='<U9')]"
      ]
     },
     "execution_count": 20,
     "metadata": {},
     "output_type": "execute_result"
    }
   ],
   "source": [
    "print(paises_2d)\n",
    "np.hsplit(paises_2d,2)\n",
    "print(paises_2d)\n",
    "np.split(paises_2d,2)"
   ]
  },
  {
   "cell_type": "code",
   "execution_count": null,
   "metadata": {},
   "outputs": [],
   "source": []
  }
 ],
 "metadata": {
  "kernelspec": {
   "display_name": "Python 3",
   "language": "python",
   "name": "python3"
  },
  "language_info": {
   "codemirror_mode": {
    "name": "ipython",
    "version": 3
   },
   "file_extension": ".py",
   "mimetype": "text/x-python",
   "name": "python",
   "nbconvert_exporter": "python",
   "pygments_lexer": "ipython3",
   "version": "3.7.6"
  }
 },
 "nbformat": 4,
 "nbformat_minor": 4
}
