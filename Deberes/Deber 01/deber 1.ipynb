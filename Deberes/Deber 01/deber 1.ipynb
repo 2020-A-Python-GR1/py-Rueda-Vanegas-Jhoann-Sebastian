{
 "cells": [
  {
   "cell_type": "code",
   "execution_count": null,
   "metadata": {},
   "outputs": [],
   "source": [
    "class Ocenano:\n",
    "    def __init__(self, nombre_mar):\n",
    "        print(\"inicie constructor\")\n",
    "        self.nombre_mar = nombre_mar\n",
    "        \n",
    "    def creacion_archivo_oceano():\n",
    "        \n",
    "        try:\n",
    "            path = \"./oceanos.txt\"\n",
    "            archivo_abierto = open(path, \"a\") #w significa write a significa append\n",
    "            #linea_uno = archivo_abierto.readline()\n",
    "            #linea_uno = archivo_abierto.readlines()\n",
    "            #archivo_abierto.write(\"soy sebas\")\n",
    "            archivo_abierto.close()\n",
    "        except Exception as error:\n",
    "            print(\"error leyendo archivo\")\n",
    "            \n",
    "\n",
    "\n",
    "class Especie_matima():\n",
    "    def creacion_archivo_especie_maritima():\n",
    "        \n",
    "        try:\n",
    "            path = \"./especies.txt\"\n",
    "            archivo_abierto = open(path, \"a\") #w significa write a significa append\n",
    "            #linea_uno = archivo_abierto.readline()\n",
    "            #linea_uno = archivo_abierto.readlines()\n",
    "            #archivo_abierto.write(\"soy sebas\")\n",
    "            archivo_abierto.close()\n",
    "        except Exception as error:\n",
    "            print(\"error leyendo archivo\")\n",
    "    \n",
    "    \n",
    "    \n",
    "    \n",
    "    \n",
    "        "
   ]
  }
 ],
 "metadata": {
  "kernelspec": {
   "display_name": "Python 3",
   "language": "python",
   "name": "python3"
  },
  "language_info": {
   "codemirror_mode": {
    "name": "ipython",
    "version": 3
   },
   "file_extension": ".py",
   "mimetype": "text/x-python",
   "name": "python",
   "nbconvert_exporter": "python",
   "pygments_lexer": "ipython3",
   "version": "3.7.6"
  }
 },
 "nbformat": 4,
 "nbformat_minor": 4
}
